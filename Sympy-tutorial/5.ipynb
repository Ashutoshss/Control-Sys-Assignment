{
 "cells": [
  {
   "cell_type": "code",
   "execution_count": 47,
   "id": "f6552558-f957-48a4-9f6b-3fd7968315b3",
   "metadata": {},
   "outputs": [],
   "source": [
    "import sympy as sym\n",
    "import math"
   ]
  },
  {
   "cell_type": "code",
   "execution_count": 91,
   "id": "8ab2709a-4fdd-4118-9027-27927aee7d2a",
   "metadata": {},
   "outputs": [
    {
     "data": {
      "text/latex": [
       "$\\displaystyle \\Lambda^{2} - 4 \\Lambda - 4 = 0$"
      ],
      "text/plain": [
       "Eq(Lambda**2 - 4*Lambda - 4, 0)"
      ]
     },
     "execution_count": 91,
     "metadata": {},
     "output_type": "execute_result"
    }
   ],
   "source": [
    "import sympy as sym\n",
    "import math\n",
    "\n",
    "x1, x2, Lambda = sym.symbols('x1 x2 Lambda')\n",
    "A = sym.Matrix([[5, 1], [-1, -1]])\n",
    "\n",
    "# Get the size of the matrix A\n",
    "rows, cols = A.shape\n",
    "size = max(rows, cols)\n",
    "\n",
    "# Create the identity matrix of appropriate size\n",
    "I = sym.eye(size)\n",
    "\n",
    "# Define the characteristic equation\n",
    "equation = sym.Eq(sym.det(Lambda*I - A), 0)\n",
    "equation\n",
    "\n",
    "# Solve the characteristic equation to find eigenvalues\n",
    "#eigenvalues = sym.solve(equation, Lambda)\n",
    "\n",
    "#print(\"Characteristic equation:\", equation)\n",
    "#print(\"Eigenvalues:\", eigenvalues)"
   ]
  },
  {
   "cell_type": "code",
   "execution_count": 89,
   "id": "983cd0a3-d81c-49ed-9740-89dc1a50af4d",
   "metadata": {},
   "outputs": [
    {
     "data": {
      "text/plain": [
       "{2 - 2*sqrt(2): 1, 2 + 2*sqrt(2): 1}"
      ]
     },
     "execution_count": 89,
     "metadata": {},
     "output_type": "execute_result"
    }
   ],
   "source": [
    "import sympy as sym\n",
    "import math\n",
    "\n",
    "x1, x2, Lambda = sym.symbols('x1 x2 Lambda')\n",
    "A = sym.Matrix([[5, 1], [-1, -1]])\n",
    "\n",
    "# Get the size of the matrix A\n",
    "rows, cols = A.shape\n",
    "size = max(rows, cols)\n",
    "\n",
    "# Create the identity matrix of appropriate size\n",
    "I = sym.eye(size)\n",
    "\n",
    "# Define the characteristic equation\n",
    "equation = A.eigenvals()\n",
    "equation"
   ]
  },
  {
   "cell_type": "code",
   "execution_count": 81,
   "id": "beb1250a-1bae-41bd-9525-ddd50669a744",
   "metadata": {},
   "outputs": [
    {
     "data": {
      "text/latex": [
       "$\\displaystyle \\left[\\begin{matrix}1 & 0\\\\0 & 1\\end{matrix}\\right]$"
      ],
      "text/plain": [
       "Matrix([\n",
       "[1, 0],\n",
       "[0, 1]])"
      ]
     },
     "execution_count": 81,
     "metadata": {},
     "output_type": "execute_result"
    }
   ],
   "source": [
    "I = sym.eye(2)\n",
    "I"
   ]
  },
  {
   "cell_type": "code",
   "execution_count": 82,
   "id": "57e16029-a785-4718-92c1-bc921819eb70",
   "metadata": {},
   "outputs": [],
   "source": [
    "#def eigen_value():"
   ]
  },
  {
   "cell_type": "code",
   "execution_count": 83,
   "id": "3f4883c6-11a6-4d81-a913-fa5ddd986949",
   "metadata": {},
   "outputs": [
    {
     "name": "stdout",
     "output_type": "stream",
     "text": [
      "[0.5616, -3.562]\n",
      "⎡  3   √17    √17   3⎤\n",
      "⎢- ─ + ───, - ─── - ─⎥\n",
      "⎣  2    2      2    2⎦\n",
      "⎧       ⎛3   √17⎞⎫\n",
      "⎨x₁: x₂⋅⎜─ + ───⎟⎬\n",
      "⎩       ⎝2    2 ⎠⎭\n"
     ]
    }
   ],
   "source": [
    "from sympy import *\n",
    "x1, x2, Lambda = symbols('x1 x2 Lambda')\n",
    "I = eye(2)\n",
    "A = Matrix([[0, 2], [1, -3]])\n",
    "equation = Eq(det(Lambda*I-A), 0)\n",
    "D = solve(equation)\n",
    "print([N(element, 4) for element in D]) # Eigenvalus in decimal form\n",
    "print(pretty(D)) # Eigenvalues in exact form\n",
    "\n",
    "X = Matrix([[x1], [x2]]) # Eigenvectors\n",
    "T = A*X - D[0]*X # The Ax = %Lambda X with the first %Lambda = D[0]\n",
    "print(pretty(solve(T, x1, x2)))"
   ]
  },
  {
   "cell_type": "code",
   "execution_count": null,
   "id": "b34b823d-9c42-40c9-b53b-d76a2c63c796",
   "metadata": {},
   "outputs": [],
   "source": []
  }
 ],
 "metadata": {
  "kernelspec": {
   "display_name": "Python 3 (ipykernel)",
   "language": "python",
   "name": "python3"
  },
  "language_info": {
   "codemirror_mode": {
    "name": "ipython",
    "version": 3
   },
   "file_extension": ".py",
   "mimetype": "text/x-python",
   "name": "python",
   "nbconvert_exporter": "python",
   "pygments_lexer": "ipython3",
   "version": "3.10.12"
  }
 },
 "nbformat": 4,
 "nbformat_minor": 5
}
