{
 "cells": [
  {
   "cell_type": "code",
   "execution_count": 2,
   "id": "bf9fa828-d91c-4de2-8f57-54aa19127f10",
   "metadata": {},
   "outputs": [],
   "source": [
    "import sympy as sym"
   ]
  },
  {
   "cell_type": "code",
   "execution_count": 3,
   "id": "4b645c34-a06b-439c-a81b-2b21f1d136ea",
   "metadata": {},
   "outputs": [
    {
     "data": {
      "text/latex": [
       "$\\displaystyle \\log{\\left(e^{z} \\right)}$"
      ],
      "text/plain": [
       "log(exp(z))"
      ]
     },
     "execution_count": 3,
     "metadata": {},
     "output_type": "execute_result"
    }
   ],
   "source": [
    "z = sym.Symbol('z')\n",
    "sym.log(sym.exp(z))"
   ]
  },
  {
   "cell_type": "code",
   "execution_count": 4,
   "id": "4747b6ac-0880-41d2-a125-1c3c6d0d6c75",
   "metadata": {},
   "outputs": [],
   "source": [
    "x0 ,x1 ,x2 = sym.symbols('x0:3',real =True)"
   ]
  },
  {
   "cell_type": "code",
   "execution_count": 5,
   "id": "bcb0c867-bc06-4b85-b9d6-058868b1bae9",
   "metadata": {},
   "outputs": [
    {
     "data": {
      "text/latex": [
       "$\\displaystyle x_{0}$"
      ],
      "text/plain": [
       "x0"
      ]
     },
     "execution_count": 5,
     "metadata": {},
     "output_type": "execute_result"
    }
   ],
   "source": [
    "sym.log(sym.exp(x0))"
   ]
  },
  {
   "cell_type": "code",
   "execution_count": 6,
   "id": "774a798f-9352-4a59-ae48-081b45a43146",
   "metadata": {},
   "outputs": [
    {
     "data": {
      "text/latex": [
       "$\\displaystyle \\log{\\left(e^{x_{0}} \\right)}$"
      ],
      "text/plain": [
       "log(exp(x0))"
      ]
     },
     "execution_count": 6,
     "metadata": {},
     "output_type": "execute_result"
    }
   ],
   "source": [
    "x0 ,x1 ,x2 = sym.symbols('x0:3')\n",
    "sym.log(sym.exp(x0))"
   ]
  },
  {
   "cell_type": "markdown",
   "id": "d8ca25c1-0349-4885-a724-1ac4fd7bdc83",
   "metadata": {},
   "source": [
    "## Note:\n",
    "#### Real, Positive, or Integer Symbols\n",
    "All the symbols in sympy are by default complex. however, some simplifocation only work when the symbols are Real, Positive, or Integer Symbols ,etc."
   ]
  },
  {
   "cell_type": "code",
   "execution_count": 13,
   "id": "0dd65acc-a027-4077-8d39-78fa399f8671",
   "metadata": {},
   "outputs": [
    {
     "data": {
      "text/latex": [
       "$\\displaystyle x_{0}$"
      ],
      "text/plain": [
       "x0"
      ]
     },
     "execution_count": 13,
     "metadata": {},
     "output_type": "execute_result"
    }
   ],
   "source": [
    "x0 ,x1 ,x2 = sym.symbols('x0:3',real =True)\n",
    "x0"
   ]
  },
  {
   "cell_type": "code",
   "execution_count": 17,
   "id": "da558fec-bbc6-4678-a1b4-d4155862b808",
   "metadata": {},
   "outputs": [
    {
     "data": {
      "text/latex": [
       "$\\displaystyle x$"
      ],
      "text/plain": [
       "x"
      ]
     },
     "execution_count": 17,
     "metadata": {},
     "output_type": "execute_result"
    }
   ],
   "source": [
    "x =sym.symbols('x')\n",
    "x"
   ]
  },
  {
   "cell_type": "code",
   "execution_count": 19,
   "id": "f5fcde50-8590-4d05-b139-ed3a8261a4f8",
   "metadata": {},
   "outputs": [
    {
     "data": {
      "text/latex": [
       "$\\displaystyle \\sqrt{x^{2}}$"
      ],
      "text/plain": [
       "sqrt(x**2)"
      ]
     },
     "execution_count": 19,
     "metadata": {},
     "output_type": "execute_result"
    }
   ],
   "source": [
    "sym.sqrt(x**2)"
   ]
  },
  {
   "cell_type": "code",
   "execution_count": 24,
   "id": "352c30f7-a292-4c1f-8bdf-f50495ea3c99",
   "metadata": {},
   "outputs": [
    {
     "data": {
      "text/latex": [
       "$\\displaystyle y$"
      ],
      "text/plain": [
       "y"
      ]
     },
     "execution_count": 24,
     "metadata": {},
     "output_type": "execute_result"
    }
   ],
   "source": [
    "y =sym.symbols('y',positive = True)\n",
    "y"
   ]
  },
  {
   "cell_type": "code",
   "execution_count": 25,
   "id": "bee8aede-4f3f-40db-b211-a2643057f277",
   "metadata": {
    "jp-MarkdownHeadingCollapsed": true
   },
   "outputs": [
    {
     "data": {
      "text/latex": [
       "$\\displaystyle y$"
      ],
      "text/plain": [
       "y"
      ]
     },
     "execution_count": 25,
     "metadata": {},
     "output_type": "execute_result"
    }
   ],
   "source": [
    "sym.sqrt(y**2)"
   ]
  },
  {
   "cell_type": "code",
   "execution_count": 27,
   "id": "a4b77093-c84f-49b3-adbb-5d5cdeac3a69",
   "metadata": {},
   "outputs": [
    {
     "data": {
      "text/latex": [
       "$\\displaystyle n$"
      ],
      "text/plain": [
       "n"
      ]
     },
     "execution_count": 27,
     "metadata": {},
     "output_type": "execute_result"
    }
   ],
   "source": [
    "n =sym.symbols('n',integer = True)\n",
    "n\n"
   ]
  },
  {
   "cell_type": "code",
   "execution_count": null,
   "id": "86dc39e6-0cb5-4287-a0d0-1f4b963d9e76",
   "metadata": {},
   "outputs": [],
   "source": []
  },
  {
   "cell_type": "markdown",
   "id": "2d96e534-043b-4cb1-88f6-85026c6195d1",
   "metadata": {},
   "source": [
    "# Calculus\n",
    "- *hello*\n",
    "- this is just testing\n",
    "`x0 ,x1 ,x2 = sym.symbols('x0:3')`"
   ]
  }
 ],
 "metadata": {
  "kernelspec": {
   "display_name": "Python 3 (ipykernel)",
   "language": "python",
   "name": "python3"
  },
  "language_info": {
   "codemirror_mode": {
    "name": "ipython",
    "version": 3
   },
   "file_extension": ".py",
   "mimetype": "text/x-python",
   "name": "python",
   "nbconvert_exporter": "python",
   "pygments_lexer": "ipython3",
   "version": "3.10.12"
  }
 },
 "nbformat": 4,
 "nbformat_minor": 5
}
