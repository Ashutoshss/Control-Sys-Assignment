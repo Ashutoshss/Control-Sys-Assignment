{
 "cells": [
  {
   "cell_type": "markdown",
   "id": "2fb3ba94-87ee-4275-b346-30e7cc9b7923",
   "metadata": {},
   "source": [
    "# Defining equation in python "
   ]
  },
  {
   "cell_type": "code",
   "execution_count": 1,
   "id": "3b747008-e65d-463a-a900-4ca3b88a110f",
   "metadata": {},
   "outputs": [],
   "source": [
    "import sympy as sp "
   ]
  },
  {
   "cell_type": "code",
   "execution_count": 2,
   "id": "1541f658-fdea-4bc7-8a8f-372017349ff4",
   "metadata": {},
   "outputs": [
    {
     "data": {
      "text/latex": [
       "$\\displaystyle x$"
      ],
      "text/plain": [
       "x"
      ]
     },
     "execution_count": 2,
     "metadata": {},
     "output_type": "execute_result"
    }
   ],
   "source": [
    "x = sp.Symbol(\"x\")\n",
    "x"
   ]
  },
  {
   "cell_type": "code",
   "execution_count": 12,
   "id": "ebe53528-e1ef-4b90-9b2d-8474a4b869ff",
   "metadata": {},
   "outputs": [
    {
     "data": {
      "text/latex": [
       "$\\displaystyle x_{1}$"
      ],
      "text/plain": [
       "x1"
      ]
     },
     "execution_count": 12,
     "metadata": {},
     "output_type": "execute_result"
    }
   ],
   "source": [
    "x1 = sp.Symbol(\"x1\")\n",
    "x1"
   ]
  },
  {
   "cell_type": "code",
   "execution_count": 15,
   "id": "4dedf82f-5d4e-44a9-911d-0b748b4aee92",
   "metadata": {},
   "outputs": [
    {
     "data": {
      "text/latex": [
       "$\\displaystyle x^{2} = 5$"
      ],
      "text/plain": [
       "Eq(x**2, 5)"
      ]
     },
     "execution_count": 15,
     "metadata": {},
     "output_type": "execute_result"
    }
   ],
   "source": [
    "sp.Eq(x**2,5)"
   ]
  },
  {
   "cell_type": "code",
   "execution_count": 16,
   "id": "195bbdc2-85a0-4a12-a85a-a00030bc2a8a",
   "metadata": {},
   "outputs": [
    {
     "data": {
      "text/plain": [
       "sympy.core.relational.Equality"
      ]
     },
     "execution_count": 16,
     "metadata": {},
     "output_type": "execute_result"
    }
   ],
   "source": [
    "type(sp.Eq(x**2,5))"
   ]
  },
  {
   "cell_type": "code",
   "execution_count": 17,
   "id": "e0c843d9-dd1a-4ace-bfc8-c5cfe3a2f616",
   "metadata": {},
   "outputs": [
    {
     "data": {
      "text/latex": [
       "$\\displaystyle \\left\\{- \\sqrt{5}, \\sqrt{5}\\right\\}$"
      ],
      "text/plain": [
       "{-sqrt(5), sqrt(5)}"
      ]
     },
     "execution_count": 17,
     "metadata": {},
     "output_type": "execute_result"
    }
   ],
   "source": [
    "sp.solveset(equation)"
   ]
  },
  {
   "cell_type": "code",
   "execution_count": 18,
   "id": "349fb16d-8493-44da-a67c-5c98a3a05af1",
   "metadata": {},
   "outputs": [
    {
     "data": {
      "text/plain": [
       "[sqrt(5), -sqrt(5)]"
      ]
     },
     "execution_count": 18,
     "metadata": {},
     "output_type": "execute_result"
    }
   ],
   "source": [
    "list(sp.solveset(equation))"
   ]
  },
  {
   "cell_type": "code",
   "execution_count": 19,
   "id": "53115826-10a5-4257-b0f1-32f9fbb76258",
   "metadata": {},
   "outputs": [
    {
     "data": {
      "text/latex": [
       "$\\displaystyle \\sqrt{5}$"
      ],
      "text/plain": [
       "sqrt(5)"
      ]
     },
     "execution_count": 19,
     "metadata": {},
     "output_type": "execute_result"
    }
   ],
   "source": [
    "list(sp.solveset(equation))[0]"
   ]
  },
  {
   "cell_type": "code",
   "execution_count": null,
   "id": "7901dbc3-6256-4979-bdf4-b1f65595b62c",
   "metadata": {},
   "outputs": [],
   "source": []
  },
  {
   "cell_type": "code",
   "execution_count": null,
   "id": "0f3a436a-90a1-4867-87cb-782ffebb88ca",
   "metadata": {},
   "outputs": [],
   "source": []
  }
 ],
 "metadata": {
  "kernelspec": {
   "display_name": "Python 3 (ipykernel)",
   "language": "python",
   "name": "python3"
  },
  "language_info": {
   "codemirror_mode": {
    "name": "ipython",
    "version": 3
   },
   "file_extension": ".py",
   "mimetype": "text/x-python",
   "name": "python",
   "nbconvert_exporter": "python",
   "pygments_lexer": "ipython3",
   "version": "3.10.12"
  }
 },
 "nbformat": 4,
 "nbformat_minor": 5
}
