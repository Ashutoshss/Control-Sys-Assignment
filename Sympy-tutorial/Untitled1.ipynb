{
 "cells": [
  {
   "cell_type": "markdown",
   "id": "e7e618f1-1654-496c-a41d-fd924730986f",
   "metadata": {},
   "source": [
    "### Integral \n",
    "- `sp.integrate()` - integrates a function\n",
    "  "
   ]
  },
  {
   "cell_type": "code",
   "execution_count": 1,
   "id": "f3841862-36ff-4ae1-b207-5a59ede1bcf3",
   "metadata": {},
   "outputs": [],
   "source": [
    "import sympy as sym"
   ]
  },
  {
   "cell_type": "code",
   "execution_count": null,
   "id": "078bfa52-933e-4956-80b8-0f1dca8adb3b",
   "metadata": {},
   "outputs": [],
   "source": [
    "x,y,z = sym.symbols()"
   ]
  }
 ],
 "metadata": {
  "kernelspec": {
   "display_name": "Python 3 (ipykernel)",
   "language": "python",
   "name": "python3"
  },
  "language_info": {
   "codemirror_mode": {
    "name": "ipython",
    "version": 3
   },
   "file_extension": ".py",
   "mimetype": "text/x-python",
   "name": "python",
   "nbconvert_exporter": "python",
   "pygments_lexer": "ipython3",
   "version": "3.10.12"
  }
 },
 "nbformat": 4,
 "nbformat_minor": 5
}
